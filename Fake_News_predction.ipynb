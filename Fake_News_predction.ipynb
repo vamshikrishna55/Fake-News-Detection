{
 "cells": [
  {
   "cell_type": "markdown",
   "id": "332f6a1e-93d2-4987-96d9-cd4b657f4832",
   "metadata": {},
   "source": [
    "# Fake News Detection  \n",
    "This project aims to classify news articles as *Fake* or *Real* using Natural Language Processing (NLP) and Machine Learning techniques.  \n",
    "Fake news is a growing issue in the digital world, and this project provides an approach to detect such misinformation.\n"
   ]
  },
  {
   "cell_type": "markdown",
   "id": "29f8b78b-8868-4969-af6f-eaeb62863528",
   "metadata": {},
   "source": [
    "## Importing Required Libraries  \n",
    "We import essential libraries for data processing, visualization, NLP, and model training.  \n",
    "- **pandas, numpy** – Data handling  \n",
    "- **nltk** – Natural Language Processing  \n",
    "- **matplotlib, seaborn** – Visualization  \n",
    "- **sklearn** – Machine Learning models & evaluation metrics  \n",
    "- **shap** – Model explainability  \n"
   ]
  },
  {
   "cell_type": "code",
   "execution_count": 36,
   "id": "145f6fc0-b549-4e5d-a43d-1a31b74ac5dc",
   "metadata": {},
   "outputs": [],
   "source": [
    "# Data Handling\n",
    "import pandas as pd\n",
    "import numpy as np\n",
    "import string\n",
    "\n",
    "# NLP\n",
    "import nltk\n",
    "from nltk.tokenize import word_tokenize\n",
    "from nltk.corpus import stopwords\n",
    "from nltk.stem import WordNetLemmatizer\n",
    "\n",
    "# Visualization\n",
    "import matplotlib.pyplot as plt\n",
    "import seaborn as sns\n",
    "from wordcloud import WordCloud\n",
    "\n",
    "# Machine Learning\n",
    "from sklearn.model_selection import train_test_split\n",
    "from sklearn.feature_extraction.text import TfidfVectorizer\n",
    "from sklearn.linear_model import LogisticRegression\n",
    "from sklearn.metrics import confusion_matrix, classification_report, roc_curve, auc, ConfusionMatrixDisplay, classification_report\n",
    "from sklearn.model_selection import learning_curve\n",
    "\n",
    "# Explainability\n",
    "import shap\n",
    "import joblib\n"
   ]
  },
  {
   "cell_type": "markdown",
   "id": "1c30a21b-c15b-4a56-9768-d631e401224a",
   "metadata": {},
   "source": [
    "## Loading the Dataset  \n",
    "We use a dataset containing labeled news articles.  \n",
    "- The dataset has two classes: *Fake* and *Real*  \n",
    "- It contains textual data that requires preprocessing before feeding it into a model.\n"
   ]
  },
  {
   "cell_type": "code",
   "execution_count": 37,
   "id": "8dc7aecc-a69b-4840-9bc9-0435df700772",
   "metadata": {},
   "outputs": [],
   "source": [
    "df = pd.read_csv(\"Fake_or_Real.csv\")"
   ]
  },
  {
   "cell_type": "markdown",
   "id": "d4d820ad-92a5-41ff-af5f-a1e622035f97",
   "metadata": {},
   "source": [
    "## Checking for Null Values and Data Cleaning  \n",
    "Before proceeding with text processing, we check for any missing values in the dataset.  \n",
    "Missing values can impact model performance, so we handle them appropriately by removing rows with null values."
   ]
  },
  {
   "cell_type": "code",
   "execution_count": 42,
   "id": "ed127177-9a41-4ba8-9ef6-3dc749a3549a",
   "metadata": {},
   "outputs": [],
   "source": [
    "# Checking for null values\n",
    "df.isnull().sum()\n",
    "df = df.dropna()"
   ]
  },
  {
   "cell_type": "code",
   "execution_count": 15,
   "id": "c349b42b-cfec-4433-a2b4-c5d26c307ad1",
   "metadata": {},
   "outputs": [
    {
     "data": {
      "text/html": [
       "<div>\n",
       "<style scoped>\n",
       "    .dataframe tbody tr th:only-of-type {\n",
       "        vertical-align: middle;\n",
       "    }\n",
       "\n",
       "    .dataframe tbody tr th {\n",
       "        vertical-align: top;\n",
       "    }\n",
       "\n",
       "    .dataframe thead th {\n",
       "        text-align: right;\n",
       "    }\n",
       "</style>\n",
       "<table border=\"1\" class=\"dataframe\">\n",
       "  <thead>\n",
       "    <tr style=\"text-align: right;\">\n",
       "      <th></th>\n",
       "      <th>id</th>\n",
       "      <th>title</th>\n",
       "      <th>author</th>\n",
       "      <th>text</th>\n",
       "      <th>label</th>\n",
       "    </tr>\n",
       "  </thead>\n",
       "  <tbody>\n",
       "    <tr>\n",
       "      <th>0</th>\n",
       "      <td>0</td>\n",
       "      <td>House Dem Aide: We Didn’t Even See Comey’s Let...</td>\n",
       "      <td>Darrell Lucus</td>\n",
       "      <td>House Dem Aide: We Didn’t Even See Comey’s Let...</td>\n",
       "      <td>1</td>\n",
       "    </tr>\n",
       "    <tr>\n",
       "      <th>1</th>\n",
       "      <td>1</td>\n",
       "      <td>FLYNN: Hillary Clinton, Big Woman on Campus - ...</td>\n",
       "      <td>Daniel J. Flynn</td>\n",
       "      <td>Ever get the feeling your life circles the rou...</td>\n",
       "      <td>0</td>\n",
       "    </tr>\n",
       "    <tr>\n",
       "      <th>2</th>\n",
       "      <td>2</td>\n",
       "      <td>Why the Truth Might Get You Fired</td>\n",
       "      <td>Consortiumnews.com</td>\n",
       "      <td>Why the Truth Might Get You Fired October 29, ...</td>\n",
       "      <td>1</td>\n",
       "    </tr>\n",
       "    <tr>\n",
       "      <th>3</th>\n",
       "      <td>3</td>\n",
       "      <td>15 Civilians Killed In Single US Airstrike Hav...</td>\n",
       "      <td>Jessica Purkiss</td>\n",
       "      <td>Videos 15 Civilians Killed In Single US Airstr...</td>\n",
       "      <td>1</td>\n",
       "    </tr>\n",
       "    <tr>\n",
       "      <th>4</th>\n",
       "      <td>4</td>\n",
       "      <td>Iranian woman jailed for fictional unpublished...</td>\n",
       "      <td>Howard Portnoy</td>\n",
       "      <td>Print \\nAn Iranian woman has been sentenced to...</td>\n",
       "      <td>1</td>\n",
       "    </tr>\n",
       "    <tr>\n",
       "      <th>...</th>\n",
       "      <td>...</td>\n",
       "      <td>...</td>\n",
       "      <td>...</td>\n",
       "      <td>...</td>\n",
       "      <td>...</td>\n",
       "    </tr>\n",
       "    <tr>\n",
       "      <th>20795</th>\n",
       "      <td>20795</td>\n",
       "      <td>Rapper T.I.: Trump a ’Poster Child For White S...</td>\n",
       "      <td>Jerome Hudson</td>\n",
       "      <td>Rapper T. I. unloaded on black celebrities who...</td>\n",
       "      <td>0</td>\n",
       "    </tr>\n",
       "    <tr>\n",
       "      <th>20796</th>\n",
       "      <td>20796</td>\n",
       "      <td>N.F.L. Playoffs: Schedule, Matchups and Odds -...</td>\n",
       "      <td>Benjamin Hoffman</td>\n",
       "      <td>When the Green Bay Packers lost to the Washing...</td>\n",
       "      <td>0</td>\n",
       "    </tr>\n",
       "    <tr>\n",
       "      <th>20797</th>\n",
       "      <td>20797</td>\n",
       "      <td>Macy’s Is Said to Receive Takeover Approach by...</td>\n",
       "      <td>Michael J. de la Merced and Rachel Abrams</td>\n",
       "      <td>The Macy’s of today grew from the union of sev...</td>\n",
       "      <td>0</td>\n",
       "    </tr>\n",
       "    <tr>\n",
       "      <th>20798</th>\n",
       "      <td>20798</td>\n",
       "      <td>NATO, Russia To Hold Parallel Exercises In Bal...</td>\n",
       "      <td>Alex Ansary</td>\n",
       "      <td>NATO, Russia To Hold Parallel Exercises In Bal...</td>\n",
       "      <td>1</td>\n",
       "    </tr>\n",
       "    <tr>\n",
       "      <th>20799</th>\n",
       "      <td>20799</td>\n",
       "      <td>What Keeps the F-35 Alive</td>\n",
       "      <td>David Swanson</td>\n",
       "      <td>David Swanson is an author, activist, journa...</td>\n",
       "      <td>1</td>\n",
       "    </tr>\n",
       "  </tbody>\n",
       "</table>\n",
       "<p>18285 rows × 5 columns</p>\n",
       "</div>"
      ],
      "text/plain": [
       "          id                                              title  \\\n",
       "0          0  House Dem Aide: We Didn’t Even See Comey’s Let...   \n",
       "1          1  FLYNN: Hillary Clinton, Big Woman on Campus - ...   \n",
       "2          2                  Why the Truth Might Get You Fired   \n",
       "3          3  15 Civilians Killed In Single US Airstrike Hav...   \n",
       "4          4  Iranian woman jailed for fictional unpublished...   \n",
       "...      ...                                                ...   \n",
       "20795  20795  Rapper T.I.: Trump a ’Poster Child For White S...   \n",
       "20796  20796  N.F.L. Playoffs: Schedule, Matchups and Odds -...   \n",
       "20797  20797  Macy’s Is Said to Receive Takeover Approach by...   \n",
       "20798  20798  NATO, Russia To Hold Parallel Exercises In Bal...   \n",
       "20799  20799                          What Keeps the F-35 Alive   \n",
       "\n",
       "                                          author  \\\n",
       "0                                  Darrell Lucus   \n",
       "1                                Daniel J. Flynn   \n",
       "2                             Consortiumnews.com   \n",
       "3                                Jessica Purkiss   \n",
       "4                                 Howard Portnoy   \n",
       "...                                          ...   \n",
       "20795                              Jerome Hudson   \n",
       "20796                           Benjamin Hoffman   \n",
       "20797  Michael J. de la Merced and Rachel Abrams   \n",
       "20798                                Alex Ansary   \n",
       "20799                              David Swanson   \n",
       "\n",
       "                                                    text  label  \n",
       "0      House Dem Aide: We Didn’t Even See Comey’s Let...      1  \n",
       "1      Ever get the feeling your life circles the rou...      0  \n",
       "2      Why the Truth Might Get You Fired October 29, ...      1  \n",
       "3      Videos 15 Civilians Killed In Single US Airstr...      1  \n",
       "4      Print \\nAn Iranian woman has been sentenced to...      1  \n",
       "...                                                  ...    ...  \n",
       "20795  Rapper T. I. unloaded on black celebrities who...      0  \n",
       "20796  When the Green Bay Packers lost to the Washing...      0  \n",
       "20797  The Macy’s of today grew from the union of sev...      0  \n",
       "20798  NATO, Russia To Hold Parallel Exercises In Bal...      1  \n",
       "20799    David Swanson is an author, activist, journa...      1  \n",
       "\n",
       "[18285 rows x 5 columns]"
      ]
     },
     "execution_count": 15,
     "metadata": {},
     "output_type": "execute_result"
    }
   ],
   "source": [
    "df"
   ]
  },
  {
   "cell_type": "markdown",
   "id": "0c673a8e-0954-4e3d-ae42-f4017e2f7213",
   "metadata": {},
   "source": [
    "## Splitting the Dataset  \n",
    "We split the dataset into **training** and **testing** sets to evaluate model performance.  \n",
    "- **80% Training Data**: Used to train the machine learning model  \n",
    "- **20% Testing Data**: Used to evaluate model accuracy  "
   ]
  },
  {
   "cell_type": "code",
   "execution_count": 43,
   "id": "d09a86fd-828e-4a4e-8f2b-ae294355327c",
   "metadata": {},
   "outputs": [],
   "source": [
    "X, y = df['text'], df['label']\n",
    "X_train, X_test, y_train, y_test = train_test_split(X, y, test_size=0.2)\n"
   ]
  },
  {
   "cell_type": "markdown",
   "id": "871a291a-f04a-4007-98a9-17cdbaaae1bc",
   "metadata": {},
   "source": [
    "## Text Vectorization using TF-IDF  \n",
    "Since machine learning models require numerical input, we convert text data into numerical features using **TF-IDF (Term Frequency-Inverse Document Frequency)**.  \n",
    "\n",
    "### Why TF-IDF?  \n",
    "- **Removes common words (\"stopwords\")** to reduce noise  \n",
    "- **Assigns weight to words** based on importance in the document  \n",
    "- **Helps models understand text-based data**  "
   ]
  },
  {
   "cell_type": "code",
   "execution_count": 44,
   "id": "0fa44846-056c-41db-96c9-a5c1f53d5b98",
   "metadata": {},
   "outputs": [],
   "source": [
    "vectorizer = TfidfVectorizer(stop_words=\"english\", max_df=0.7)\n",
    "X_train_vectorizer = vectorizer.fit_transform(X_train)\n",
    "X_test_vectorizer = vectorizer.transform(X_test)"
   ]
  },
  {
   "cell_type": "markdown",
   "id": "34aeb5f0-e6f1-4828-b16c-bc6f39094c95",
   "metadata": {},
   "source": [
    "## Training the Model with Linear SVC  \n",
    "We use **Linear Support Vector Classification (LinearSVC)**, a powerful algorithm for text classification tasks.  \n",
    "\n",
    "### Why LinearSVC?  \n",
    "✔ Works well with high-dimensional text data  \n",
    "✔ Efficient for large datasets  \n",
    "✔ Handles binary classification effectively  \n",
    "\n",
    "The model is trained on the **TF-IDF transformed text data** and evaluated using accuracy."
   ]
  },
  {
   "cell_type": "code",
   "execution_count": 45,
   "id": "1d59d038-6218-4ae9-b2e7-09b302526077",
   "metadata": {},
   "outputs": [
    {
     "name": "stdout",
     "output_type": "stream",
     "text": [
      "Model Accuracy: 0.97\n"
     ]
    }
   ],
   "source": [
    "exe = LinearSVC()\n",
    "exe.fit(X_train_vectorizer, y_train)\n",
    "\n",
    "accuracy = exe.score(X_test_vectorizer, y_test)\n",
    "print(f\"Model Accuracy: {accuracy:.2f}\")"
   ]
  },
  {
   "cell_type": "markdown",
   "id": "0a43c440-1ca8-40a0-9a78-a5a51b675b65",
   "metadata": {},
   "source": [
    "## Making Predictions on a Sample News Article  \n",
    "After training the model, we can test it by predicting whether a given news article is **Fake** or **Real**.  \n",
    "\n",
    "- We **select a test sample** from `X_test`  \n",
    "- The sample is **vectorized** using the same TF-IDF transformer  \n",
    "- The trained model **predicts** the label  \n",
    "- We compare the prediction with the **actual label** from `y_test`  \n"
   ]
  },
  {
   "cell_type": "code",
   "execution_count": 46,
   "id": "edbdfe7f-988d-441c-b350-88883f4b3f96",
   "metadata": {},
   "outputs": [
    {
     "data": {
      "text/plain": [
       "0"
      ]
     },
     "execution_count": 46,
     "metadata": {},
     "output_type": "execute_result"
    }
   ],
   "source": [
    "text = X_test.iloc[10]\n",
    "vectorized_text = vectorizer.transform([text])\n",
    "exe.predict(vectorized_text)\n",
    "y_test.iloc[10]\n"
   ]
  },
  {
   "cell_type": "markdown",
   "id": "b222a6f7-86be-44a5-b555-b35398a21ed6",
   "metadata": {},
   "source": [
    "## Sample Test for Fake News Detection Model\n",
    "\n",
    "This section demonstrates how to test the fake news detection model on a sample text from the test dataset.\n"
   ]
  },
  {
   "cell_type": "code",
   "execution_count": 47,
   "id": "458760b3-5bbe-4338-aaf5-9eae6519b063",
   "metadata": {},
   "outputs": [
    {
     "name": "stdout",
     "output_type": "stream",
     "text": [
      "Sample Text: WASHINGTON  —   In what appears to be the largest leak of C. I. A documents in history, WikiLeaks released on Tuesday thousands of pages describing sophisticated software tools and techniques used by the agency to break into smartphones, computers and even   televisions. The documents amount to a detailed, highly technical catalog of tools. They include instructions for compromising a wide range of common computer tools for use in spying: the online calling service Skype   networks documents in PDF format and even commercial antivirus programs of the kind used by millions of people to protect their computers. A program called Wrecking Crew explains how to crash a targeted computer, and another tells how to steal passwords using the autocomplete function on Internet Explorer. Other programs were called CrunchyLimeSkies, ElderPiggy, AngerQuake and McNugget. The document dump was the latest coup for the antisecrecy organization and a serious blow to the C. I. A. which uses its hacking abilities to carry out espionage against foreign targets. The initial release, which WikiLeaks said was only the first installment in a larger collection of secret C. I. A. material, included 7, 818 web pages with 943 attachments, many of them partly redacted by WikiLeaks editors to avoid disclosing the actual code for cyberweapons. The entire archive of C. I. A. material consists of several hundred million lines of computer code, the group claimed. In one revelation that may especially trouble the tech world if confirmed, WikiLeaks said that the C. I. A. and allied intelligence services have managed to compromise both Apple and Android smartphones, allowing their officers to bypass the encryption on popular services such as Signal, WhatsApp and Telegram. According to WikiLeaks, government hackers can penetrate smartphones and collect “audio and message traffic before encryption is applied. ” Unlike the National Security Agency documents Edward J. Snowden gave to journalists in 2013, they do not include examples of how the tools have been used against actual foreign targets. That could limit the damage of the leak to national security. But the breach was highly embarrassing for an agency that depends on secrecy. Robert M. Chesney, a specialist in national security law at the University of Texas at Austin, likened the C. I. A. trove to National Security Agency hacking tools disclosed last year by a group calling itself the Shadow Brokers. “If this is true, it says that N. S. A. isn’t the only one with an advanced, persistent problem with operational security for these tools,” Mr. Chesney said. “We’re getting bit time and again. ” There was no public confirmation of the authenticity of the documents, which were produced by the C. I. A. ’s Center for Cyber Intelligence and are mostly dated from 2013 to 2016. But one government official said the documents were real, and a former intelligence officer said some of the code names for C. I. A. programs, an organization chart and the description of a C. I. A. hacking base appeared to be genuine. The agency appeared to be taken by surprise by the document dump on Tuesday morning. A C. I. A. spokesman, Dean Boyd, said, “We do not comment on the authenticity or content of purported intelligence documents. ” In some regard, the C. I. A. documents confirmed and filled in the details on abilities that have long been suspected in technical circles. “The people who know a lot about security and hacking assumed that the C. I. A. was at least investing in these capabilities, and if they weren’t, then somebody else was  —   China, Iran, Russia, as well as a lot of other private actors,” said Beau Woods, the deputy director of the Cyber Statecraft Initiative at the Atlantic Council in Washington. He said the disclosures may raise concerns in the United States and abroad about “the trustworthiness of technology where cybersecurity can impact human life and public safety. ” There is no evidence that the C. I. A. hacking tools have been used against Americans. But Ben Wizner, the director of the American Civil Liberties Union’s Speech, Privacy, and Technology Project, said the documents suggest that the government has deliberately allowed vulnerabilities in phones and other devices to persist to make spying easier. “Those vulnerabilities will be exploited not just by our security agencies, but by hackers and governments around the world,” Mr. Wizner said. “Patching security holes immediately, not stockpiling them, is the best way to make everyone’s digital life safer. ” WikiLeaks did not identify the source of the documents, which it called Vault 7, but said they had been “circulated among former U. S. government hackers and contractors in an unauthorized manner, one of whom has provided WikiLeaks with portions of the archive. ” WikiLeaks said the source, in a statement, set out policy questions that “urgently need to be debated in public, including whether the C. I. A. ’s hacking capabilities exceed its mandated powers and the problem of public oversight of the agency. ” The source, the group said, “wishes to initiate a public debate about the security, creation, use, proliferation and democratic control of cyberweapons. ” But James Lewis, an expert on cybersecurity at the Center for Strategic and International Studies in Washington, raised another possibility: that a foreign state, most likely Russia, stole the documents by hacking or other means and delivered them to WikiLeaks, which may not know how they were obtained. Mr. Lewis noted that, according to American intelligence agencies, Russia hacked Democratic targets during the presidential campaign and gave thousands of emails to WikiLeaks for publication. “I think a foreign power is much more likely the source of these documents than a   C. I. A. ” Mr. Lewis said. At a time of increasing concern about the privacy of calls and messages, the revelations did not suggest that the C. I. A. can actually break the encryption used by popular messaging apps. Instead, by penetrating the user’s phone, the agency can make the encryption irrelevant by intercepting messages and calls before their content is encrypted, or, on the other end, after messages are decrypted. WikiLeaks, which has sometimes been accused of recklessly leaking information that could do harm, said it had redacted names and other identifying information from the collection. It said it was not releasing the computer code for actual, usable weapons “until a consensus emerges on the technical and political nature of the C. I. A. ’s program and how such ‘weapons’ should be analyzed, disarmed and published. ” The codes names used for projects revealed in the WikiLeaks documents appear to reflect the likely demographic of the cyberexperts employed by the C. I. A.  —   that is, young and male. There are numerous references to “Harry Potter,” Pokémon and Adderall, the drug used to treat hyperactivity. A number of projects were named after whiskey brands. Some were   single malt scotches, such as Laphroaig and Ardbeg. Others were from more pedestrian labels, such as Wild Turkey, which was described by its programmers, in mock dictionary style, as “(n.) A animal of the avian variety that has not been domesticated. Also a type of alcohol with a high proof (151). ” Some of the details of the C. I. A. programs might have come from the plot of a spy novel for the cyberage, revealing numerous highly classified  —   and, in some cases, exotic  —   hacking programs. One program,   Weeping Angel, uses Samsung “smart” televisions as covert listening devices. According to the WikiLeaks news release, even when it appears to be turned off, the television “operates as a bug, recording conversations in the room and sending them over the internet to a covert C. I. A. server. ” The release said the program was developed in cooperation with British intelligence. If C. I. A. agents did manage to hack the smart TVs, they would not be the only ones. Since their release,   televisions have been a focus for hackers and cybersecurity experts, many of whom see the sets’ ability to record and transmit conversations as a potentially dangerous vulnerability. In early 2015, Samsung started to include in the fine print terms of service for its smart TVs a warning that the television sets could capture background conversations. “Please be aware that if your spoken words include personal or other sensitive information, that information will be among the data captured and transmitted to a third party through your use of Voice Recognition,” the warning said. Another program described in the documents, named Umbrage, is a voluminous library of cyberattack techniques that the C. I. A. has collected from malware produced by other countries, including Russia. According to the WikiLeaks release, the large number of techniques allows the C. I. A. to mask the origin of some of its attacks and confuse forensic investigators. The WikiLeaks material includes lists of software tools that the C. I. A. uses to create exploits and malware to carrying out hacking. Many of the tools are those used by developers around the world: coding languages, such as Python, and tools like Sublime Text, a program used to write code, and Git, a tool that helps developers collaborate. But the agency also appears to rely on software designed specifically for spies, such as Ghidra, which in one of the documents is described as “a reverse engineering environment created by the N. S. A. ” The Vault 7 release marks the latest in a series of huge leaks that have changed the landscape for government and corporate secrecy. In scale, the Vault 7 archive appears to fall into the same category as the biggest leaks of classified information in recent years, including the   diplomatic cables taken by Chelsea Manning, the former Army intelligence analyst, and given to WikiLeaks in 2010, and the hundreds of thousands of National Security Agency documents taken by Mr. Snowden in 2013. In the business world, the   Panama Papers and several other   leaks have laid bare the details of secret offshore companies used by wealthy and corrupt people to hide their assets. Both government and corporate leaks have been made possible by the ease of downloading, storing and transferring millions of documents in seconds or minutes, a sea change from the use of slow photocopying for some earlier leaks, including the Pentagon Papers in 1971.\n",
      "Predicted Label: 0\n",
      "Actual Label: 0\n"
     ]
    }
   ],
   "source": [
    "# sample test\n",
    "text = X_test.iloc[10]\n",
    "print(\"Sample Text:\", text)\n",
    "\n",
    "# Transform text for prediction\n",
    "vectorized_text = vectorizer.transform([text])\n",
    "\n",
    "# Predict whether the text is Fake or Real\n",
    "prediction = exe.predict(vectorized_text)\n",
    "print(\"Predicted Label:\", prediction[0])\n",
    "\n",
    "# Check the actual label\n",
    "actual_label = y_test.iloc[10]\n",
    "print(\"Actual Label:\", actual_label)\n"
   ]
  },
  {
   "cell_type": "markdown",
   "id": "f3c35b38-d161-4340-b3e5-e8b9c6e73dc4",
   "metadata": {},
   "source": [
    "## Generate and Display Confusion Matrix\n",
    "\n",
    "In this section, we generate and display a confusion matrix to evaluate the performance of the fake news detection model."
   ]
  },
  {
   "cell_type": "code",
   "execution_count": 23,
   "id": "97a50535-5013-40f2-94ec-2aba12dc5818",
   "metadata": {},
   "outputs": [
    {
     "data": {
      "image/png": "[encoded data removed]",
      "text/plain": [
       "<Figure size 640x480 with 2 Axes>"
      ]
     },
     "metadata": {},
     "output_type": "display_data"
    }
   ],
   "source": [
    "# Generate confusion matrix\n",
    "y_pred = exe.predict(X_test_vectorizer)\n",
    "cm = confusion_matrix(y_test, y_pred)\n",
    "\n",
    "# Display the confusion matrix\n",
    "cm_display = ConfusionMatrixDisplay(confusion_matrix=cm, display_labels=['Fake', 'Real'])\n",
    "cm_display.plot(cmap='Blues')\n",
    "plt.title(\"Confusion Matrix\")\n",
    "plt.show()\n"
   ]
  },
  {
   "cell_type": "markdown",
   "id": "ff0bfb8d-d68f-43f6-b04a-4b80b8cf715f",
   "metadata": {},
   "source": [
    "## Generate and Display Classification Report\n",
    "\n",
    "This section generates a classification report to evaluate the performance of the fake news detection model, including precision, recall, f1-score, and support for each class.\n"
   ]
  },
  {
   "cell_type": "code",
   "execution_count": 25,
   "id": "758c51ce-26d2-441c-9656-fa0c4ebc87e5",
   "metadata": {},
   "outputs": [
    {
     "name": "stdout",
     "output_type": "stream",
     "text": [
      "Classification Report:\n",
      "               precision    recall  f1-score   support\n",
      "\n",
      "        Fake       0.97      0.97      0.97      2078\n",
      "        Real       0.96      0.96      0.96      1579\n",
      "\n",
      "    accuracy                           0.97      3657\n",
      "   macro avg       0.97      0.96      0.96      3657\n",
      "weighted avg       0.97      0.97      0.97      3657\n",
      "\n"
     ]
    }
   ],
   "source": [
    "# Generate classification report\n",
    "report = classification_report(y_test, y_pred, target_names=['Fake', 'Real'])\n",
    "print(\"Classification Report:\\n\", report)\n"
   ]
  },
  {
   "cell_type": "markdown",
   "id": "a90d628b-bfb3-4a8d-be62-46f46636020b",
   "metadata": {},
   "source": [
    "## Model Evaluation and Performance Metrics  \n",
    "We evaluate the model using:  \n",
    "📊 **Confusion Matrix** – Shows correct & incorrect classifications  \n",
    "📉 **ROC Curve & AUC Score** – Measures model performance  \n",
    "📃 **Classification Report** – Displays Precision, Recall, and F1-score\n"
   ]
  },
  {
   "cell_type": "code",
   "execution_count": 27,
   "id": "d1eb3a9e-e43b-4f8f-a463-6ff888cfb717",
   "metadata": {},
   "outputs": [
    {
     "data": {
      "image/png": "[encoded data removed]",
      "text/plain": [
       "<Figure size 1000x600 with 1 Axes>"
      ]
     },
     "metadata": {},
     "output_type": "display_data"
    }
   ],
   "source": [
    "# Get the learning curve data\n",
    "train_sizes, train_scores, test_scores = learning_curve(\n",
    "    exe, X_train_vectorizer, y_train, cv=5, scoring='accuracy', n_jobs=-1, train_sizes=np.linspace(0.1, 1.0, 5)\n",
    ")\n",
    "\n",
    "# Calculate mean and standard deviation for train and test scores\n",
    "train_mean = np.mean(train_scores, axis=1)\n",
    "test_mean = np.mean(test_scores, axis=1)\n",
    "train_std = np.std(train_scores, axis=1)\n",
    "test_std = np.std(test_scores, axis=1)\n",
    "\n",
    "# Plot the learning curve\n",
    "plt.figure(figsize=(10, 6))\n",
    "plt.plot(train_sizes, train_mean, label='Training Accuracy', color='blue')\n",
    "plt.plot(train_sizes, test_mean, label='Validation Accuracy', color='green')\n",
    "\n",
    "# Fill the area between the curves to show the variance\n",
    "plt.fill_between(train_sizes, train_mean - train_std, train_mean + train_std, color='blue', alpha=0.2)\n",
    "plt.fill_between(train_sizes, test_mean - test_std, test_mean + test_std, color='green', alpha=0.2)\n",
    "\n",
    "plt.title('Learning Curve')\n",
    "plt.xlabel('Training Size')\n",
    "plt.ylabel('Accuracy')\n",
    "plt.legend()\n",
    "plt.grid(True)\n",
    "plt.show()\n"
   ]
  },
  {
   "cell_type": "markdown",
   "id": "0f51d070-8818-4ca4-9bbc-03a815514269",
   "metadata": {},
   "source": [
    "## Save the Trained Model and TF-IDF Vectorizer\n",
    "\n",
    "After training the model and the vectorizer, it is important to save them so that they can be reused without retraining.\n"
   ]
  },
  {
   "cell_type": "code",
   "execution_count": 48,
   "id": "38b1581c-5bcb-4d29-941b-6c39db1728c7",
   "metadata": {},
   "outputs": [
    {
     "name": "stdout",
     "output_type": "stream",
     "text": [
      "Model and Vectorizer saved successfully.\n"
     ]
    }
   ],
   "source": [
    "# Save the trained model\n",
    "joblib.dump(exe, 'fake_news_model.pkl')\n",
    "\n",
    "# Save the TF-IDF vectorizer\n",
    "joblib.dump(vectorizer, 'tfidf_vectorizer.pkl')\n",
    "\n",
    "print(\"Model and Vectorizer saved successfully.\")\n"
   ]
  },
  {
   "cell_type": "markdown",
   "id": "b991f701-8a4c-49ac-8966-88d15bdc89bf",
   "metadata": {},
   "source": [
    "## Load the Saved Model and Vectorizer for Prediction\n",
    "\n",
    "Once the model and vectorizer have been saved, we can load them back into memory and use them to make predictions on new, unseen data.\n"
   ]
  },
  {
   "cell_type": "code",
   "execution_count": 33,
   "id": "57959a42-6488-4fe0-8dbe-21ce80f0e34f",
   "metadata": {},
   "outputs": [
    {
     "name": "stdout",
     "output_type": "stream",
     "text": [
      "Prediction for the new article: 1\n"
     ]
    }
   ],
   "source": [
    "# Load the saved model and vectorizer\n",
    "loaded_model = joblib.load('fake_news_model.pkl')\n",
    "loaded_vectorizer = joblib.load('tfidf_vectorizer.pkl')\n",
    "\n",
    "# Predict on a new news article\n",
    "new_text = [\"Breaking News: Scientists discover a cure for cancer!\"]\n",
    "vectorized_new_text = loaded_vectorizer.transform(new_text)\n",
    "prediction = loaded_model.predict(vectorized_new_text)\n",
    "\n",
    "print(\"Prediction for the new article:\", prediction[0])\n"
   ]
  },
  {
   "cell_type": "code",
   "execution_count": null,
   "id": "15a8beeb-fb0d-455e-b616-3d03927713f6",
   "metadata": {},
   "outputs": [],
   "source": []
  }
 ],
 "metadata": {
  "kernelspec": {
   "display_name": "Python 3 (ipykernel)",
   "language": "python",
   "name": "python3"
  },
  "language_info": {
   "codemirror_mode": {
    "name": "ipython",
    "version": 3
   },
   "file_extension": ".py",
   "mimetype": "text/x-python",
   "name": "python",
   "nbconvert_exporter": "python",
   "pygments_lexer": "ipython3",
   "version": "3.12.7"
  }
 },
 "nbformat": 4,
 "nbformat_minor": 5
}
